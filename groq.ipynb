{
 "cells": [
  {
   "cell_type": "code",
   "execution_count": 1,
   "metadata": {},
   "outputs": [
    {
     "name": "stdout",
     "output_type": "stream",
     "text": [
      "<think>\n",
      "Okay, so the user has this sentence they want to end with some emojis. Let me read it again: \"I had a bad headache so I slept and was unable to wake up the next day. Due to this, I missed some classes and eventually got suspended from school. Now I don't know what to do!\" They only want the emojis printed at the end.\n",
      "\n",
      "Hmm, first, I should break down the emotions and situations in the sentence. The user starts with a bad headache, which is a physical discomfort. Then they slept a lot, which led to missing classes. Missing classes led to getting suspended, and now they're feeling lost or unsure about what to do next.\n",
      "\n",
      "So, I need to find emojis that represent each of these parts. The headache could be shown with a face holding its head, maybe the 🤕 emoji. Then, sleeping is straightforward—maybe the 😴 emoji. Missing classes and getting suspended relates to school, so perhaps a school-related emoji like 📚 or 🏫. The suspension itself is a negative consequence, so maybe a red X (❌) or something indicating a problem. Finally, the uncertainty and feeling of not knowing what to do could be shown with a shrug emoji, like 🤷.\n",
      "\n",
      "Putting it all together, I think 🤕 for the headache, 😴 for sleeping, 📚 for school, 🚫 as a red X to indicate suspension, and 🤷 for the uncertainty. Let me check if these emojis convey the right emotions and situations without being too overwhelming. I think that's a good mix—each emoji represents a part of the story without being too cluttered.\n",
      "</think>\n",
      "\n",
      "🤕😴📚🚫🤷\n"
     ]
    }
   ],
   "source": [
    "from groq import Groq\n",
    "import os\n",
    "client = Groq(\n",
    "    api_key=os.getenv(\"GROQ_API_KEY\"),\n",
    ")\n",
    "#sentence=\"I had fun solving the rubiks cube. Some people watched me do it and one among them was Elon Musk. He offered me a job the next day\"\n",
    "sentence=\"I had a bad headache so I slept and was unable to wake up the next day. Due to this, I missed some classes and eventually got suspended from school. Now I don't know what to do!\"\n",
    "chat_completion = client.chat.completions.create(\n",
    "    messages=[\n",
    "        {\n",
    "            \"role\": \"user\",\n",
    "            \"content\": \"I need to wrap up my sentence with a few emojis. Sentence: \"+sentence+\"\\nOnly print the emojis\",\n",
    "        }\n",
    "    ],\n",
    "    model=\"deepseek-r1-distill-llama-70b\",\n",
    "    stream=False,\n",
    ")\n",
    "\n",
    "print(chat_completion.choices[0].message.content)"
   ]
  }
 ],
 "metadata": {
  "kernelspec": {
   "display_name": "Python 3",
   "language": "python",
   "name": "python3"
  },
  "language_info": {
   "codemirror_mode": {
    "name": "ipython",
    "version": 3
   },
   "file_extension": ".py",
   "mimetype": "text/x-python",
   "name": "python",
   "nbconvert_exporter": "python",
   "pygments_lexer": "ipython3",
   "version": "3.11.0"
  }
 },
 "nbformat": 4,
 "nbformat_minor": 2
}
